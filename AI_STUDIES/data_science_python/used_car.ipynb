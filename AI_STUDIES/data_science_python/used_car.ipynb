{
 "cells": [
  {
   "cell_type": "markdown",
   "id": "8736cd25",
   "metadata": {},
   "source": [
    "### SECTION 1 - Used Car - Using first article \n",
    "link: https://medium.com/data-hackers/primeiros-passos-em-data-science-utilizando-python-para-an%C3%A1lise-de-dados-823436432b28"
   ]
  },
  {
   "cell_type": "code",
   "execution_count": null,
   "id": "ab4a24cc",
   "metadata": {},
   "outputs": [
    {
     "name": "stdout",
     "output_type": "stream",
     "text": [
      "c:\\Users\\Felpola\\AppData\\Local\\Programs\\Python\\Python313\\python.exe\n"
     ]
    }
   ],
   "source": [
    "import sys\n",
    "print(sys.executable)\n",
    "\n",
    "# /c/Users/Felpola/AppData/Local/Programs/Python/Python313/Scripts/pip install pandas matplotlib seaborn"
   ]
  },
  {
   "cell_type": "code",
   "execution_count": null,
   "id": "0a6a4df1",
   "metadata": {},
   "outputs": [],
   "source": [
    "import pandas as pd\n",
    "import matplotlib.pyplot as plt \n",
    "import seaborn as sns\n",
    "\n",
    "plt.style.use('ggplot')"
   ]
  },
  {
   "cell_type": "code",
   "execution_count": null,
   "id": "8e7f1424",
   "metadata": {},
   "outputs": [
    {
     "name": "stdout",
     "output_type": "stream",
     "text": [
      "['main.ipynb', 'notes.md', 'used_cars.csv']\n"
     ]
    }
   ],
   "source": [
    "#  Realizar as leituras dos arquivos\n",
    "\n",
    "# $ /c/Users/Felpola/AppData/Local/Programs/Python/Python313/Scripts/pip install openpyxl xlrd\n",
    "\n",
    "import os\n",
    "print(os.listdir())"
   ]
  },
  {
   "cell_type": "code",
   "execution_count": null,
   "id": "452bbd29",
   "metadata": {},
   "outputs": [],
   "source": [
    "# Read Excel arquivo\n",
    "used_cars = pd.read_excel(\"used_cars.xls\")"
   ]
  },
  {
   "cell_type": "code",
   "execution_count": null,
   "id": "75dfd734",
   "metadata": {},
   "outputs": [
    {
     "data": {
      "text/html": [
       "<div>\n",
       "<style scoped>\n",
       "    .dataframe tbody tr th:only-of-type {\n",
       "        vertical-align: middle;\n",
       "    }\n",
       "\n",
       "    .dataframe tbody tr th {\n",
       "        vertical-align: top;\n",
       "    }\n",
       "\n",
       "    .dataframe thead th {\n",
       "        text-align: right;\n",
       "    }\n",
       "</style>\n",
       "<table border=\"1\" class=\"dataframe\">\n",
       "  <thead>\n",
       "    <tr style=\"text-align: right;\">\n",
       "      <th></th>\n",
       "      <th>data.set</th>\n",
       "      <th>total.cost</th>\n",
       "      <th>lot.sale.days</th>\n",
       "      <th>overage</th>\n",
       "      <th>mileage</th>\n",
       "      <th>vehicle.type</th>\n",
       "      <th>domestic.import</th>\n",
       "      <th>vehicle.age</th>\n",
       "      <th>vehicle.age.group</th>\n",
       "      <th>color.set</th>\n",
       "      <th>makex</th>\n",
       "      <th>state</th>\n",
       "      <th>make.model</th>\n",
       "    </tr>\n",
       "  </thead>\n",
       "  <tbody>\n",
       "    <tr>\n",
       "      <th>0</th>\n",
       "      <td>TRAIN</td>\n",
       "      <td>4037</td>\n",
       "      <td>135</td>\n",
       "      <td>YES</td>\n",
       "      <td>67341</td>\n",
       "      <td>FAMILY.LARGE</td>\n",
       "      <td>Domestic</td>\n",
       "      <td>8</td>\n",
       "      <td>SEVEN+</td>\n",
       "      <td>SILVER</td>\n",
       "      <td>BUICK</td>\n",
       "      <td>CA</td>\n",
       "      <td>BUICK.CENTURY</td>\n",
       "    </tr>\n",
       "    <tr>\n",
       "      <th>1</th>\n",
       "      <td>TRAIN</td>\n",
       "      <td>6886</td>\n",
       "      <td>114</td>\n",
       "      <td>YES</td>\n",
       "      <td>72823</td>\n",
       "      <td>FAMILY.MEDIUM</td>\n",
       "      <td>Domestic</td>\n",
       "      <td>6</td>\n",
       "      <td>SIX</td>\n",
       "      <td>WHITE</td>\n",
       "      <td>DODGE</td>\n",
       "      <td>AZ</td>\n",
       "      <td>DODGE.NEON</td>\n",
       "    </tr>\n",
       "    <tr>\n",
       "      <th>2</th>\n",
       "      <td>TRAIN</td>\n",
       "      <td>3924</td>\n",
       "      <td>205</td>\n",
       "      <td>YES</td>\n",
       "      <td>96330</td>\n",
       "      <td>FAMILY.MEDIUM</td>\n",
       "      <td>Domestic</td>\n",
       "      <td>9</td>\n",
       "      <td>SEVEN+</td>\n",
       "      <td>WHITE</td>\n",
       "      <td>OLDSMOBILE</td>\n",
       "      <td>FL</td>\n",
       "      <td>OLDSMOBILE.CUTLASS SUPREME</td>\n",
       "    </tr>\n",
       "    <tr>\n",
       "      <th>3</th>\n",
       "      <td>TRAIN</td>\n",
       "      <td>4636</td>\n",
       "      <td>100</td>\n",
       "      <td>YES</td>\n",
       "      <td>58519</td>\n",
       "      <td>ECONOMY</td>\n",
       "      <td>Import</td>\n",
       "      <td>4</td>\n",
       "      <td>FOUR</td>\n",
       "      <td>GOLD</td>\n",
       "      <td>KIA</td>\n",
       "      <td>NV</td>\n",
       "      <td>KIA.SEPHIA</td>\n",
       "    </tr>\n",
       "    <tr>\n",
       "      <th>4</th>\n",
       "      <td>TRAIN</td>\n",
       "      <td>5080</td>\n",
       "      <td>129</td>\n",
       "      <td>YES</td>\n",
       "      <td>99057</td>\n",
       "      <td>FAMILY.MEDIUM</td>\n",
       "      <td>Domestic</td>\n",
       "      <td>4</td>\n",
       "      <td>FOUR</td>\n",
       "      <td>GREEN</td>\n",
       "      <td>OLDSMOBILE</td>\n",
       "      <td>NV</td>\n",
       "      <td>OLDSMOBILE.CUTLASS SUPREME</td>\n",
       "    </tr>\n",
       "  </tbody>\n",
       "</table>\n",
       "</div>"
      ],
      "text/plain": [
       "  data.set  total.cost  lot.sale.days overage  mileage   vehicle.type  \\\n",
       "0    TRAIN        4037            135     YES    67341   FAMILY.LARGE   \n",
       "1    TRAIN        6886            114     YES    72823  FAMILY.MEDIUM   \n",
       "2    TRAIN        3924            205     YES    96330  FAMILY.MEDIUM   \n",
       "3    TRAIN        4636            100     YES    58519        ECONOMY   \n",
       "4    TRAIN        5080            129     YES    99057  FAMILY.MEDIUM   \n",
       "\n",
       "  domestic.import  vehicle.age vehicle.age.group color.set       makex state  \\\n",
       "0        Domestic            8            SEVEN+    SILVER       BUICK    CA   \n",
       "1        Domestic            6               SIX     WHITE       DODGE    AZ   \n",
       "2        Domestic            9            SEVEN+     WHITE  OLDSMOBILE    FL   \n",
       "3          Import            4              FOUR      GOLD         KIA    NV   \n",
       "4        Domestic            4              FOUR     GREEN  OLDSMOBILE    NV   \n",
       "\n",
       "                   make.model  \n",
       "0               BUICK.CENTURY  \n",
       "1                  DODGE.NEON  \n",
       "2  OLDSMOBILE.CUTLASS SUPREME  \n",
       "3                  KIA.SEPHIA  \n",
       "4  OLDSMOBILE.CUTLASS SUPREME  "
      ]
     },
     "execution_count": 22,
     "metadata": {},
     "output_type": "execute_result"
    }
   ],
   "source": [
    "# mostra as primeiras celular dessa tabela\n",
    "used_cars.head()"
   ]
  },
  {
   "cell_type": "code",
   "execution_count": null,
   "id": "7e41d46a",
   "metadata": {},
   "outputs": [
    {
     "data": {
      "text/html": [
       "<div>\n",
       "<style scoped>\n",
       "    .dataframe tbody tr th:only-of-type {\n",
       "        vertical-align: middle;\n",
       "    }\n",
       "\n",
       "    .dataframe tbody tr th {\n",
       "        vertical-align: top;\n",
       "    }\n",
       "\n",
       "    .dataframe thead th {\n",
       "        text-align: right;\n",
       "    }\n",
       "</style>\n",
       "<table border=\"1\" class=\"dataframe\">\n",
       "  <thead>\n",
       "    <tr style=\"text-align: right;\">\n",
       "      <th></th>\n",
       "      <th>total.cost</th>\n",
       "      <th>lot.sale.days</th>\n",
       "      <th>mileage</th>\n",
       "      <th>vehicle.age</th>\n",
       "    </tr>\n",
       "  </thead>\n",
       "  <tbody>\n",
       "    <tr>\n",
       "      <th>count</th>\n",
       "      <td>7495.000000</td>\n",
       "      <td>7495.000000</td>\n",
       "      <td>7495.000000</td>\n",
       "      <td>7495.000000</td>\n",
       "    </tr>\n",
       "    <tr>\n",
       "      <th>mean</th>\n",
       "      <td>4980.035490</td>\n",
       "      <td>76.454303</td>\n",
       "      <td>77234.533422</td>\n",
       "      <td>5.567312</td>\n",
       "    </tr>\n",
       "    <tr>\n",
       "      <th>std</th>\n",
       "      <td>937.602064</td>\n",
       "      <td>64.644337</td>\n",
       "      <td>17142.552588</td>\n",
       "      <td>1.756219</td>\n",
       "    </tr>\n",
       "    <tr>\n",
       "      <th>min</th>\n",
       "      <td>1375.000000</td>\n",
       "      <td>0.000000</td>\n",
       "      <td>1036.000000</td>\n",
       "      <td>1.000000</td>\n",
       "    </tr>\n",
       "    <tr>\n",
       "      <th>25%</th>\n",
       "      <td>4354.000000</td>\n",
       "      <td>14.000000</td>\n",
       "      <td>67946.000000</td>\n",
       "      <td>4.000000</td>\n",
       "    </tr>\n",
       "    <tr>\n",
       "      <th>50%</th>\n",
       "      <td>4919.000000</td>\n",
       "      <td>73.000000</td>\n",
       "      <td>78534.000000</td>\n",
       "      <td>5.000000</td>\n",
       "    </tr>\n",
       "    <tr>\n",
       "      <th>75%</th>\n",
       "      <td>5540.000000</td>\n",
       "      <td>120.000000</td>\n",
       "      <td>89340.000000</td>\n",
       "      <td>7.000000</td>\n",
       "    </tr>\n",
       "    <tr>\n",
       "      <th>max</th>\n",
       "      <td>9813.000000</td>\n",
       "      <td>300.000000</td>\n",
       "      <td>119250.000000</td>\n",
       "      <td>12.000000</td>\n",
       "    </tr>\n",
       "  </tbody>\n",
       "</table>\n",
       "</div>"
      ],
      "text/plain": [
       "        total.cost  lot.sale.days        mileage  vehicle.age\n",
       "count  7495.000000    7495.000000    7495.000000  7495.000000\n",
       "mean   4980.035490      76.454303   77234.533422     5.567312\n",
       "std     937.602064      64.644337   17142.552588     1.756219\n",
       "min    1375.000000       0.000000    1036.000000     1.000000\n",
       "25%    4354.000000      14.000000   67946.000000     4.000000\n",
       "50%    4919.000000      73.000000   78534.000000     5.000000\n",
       "75%    5540.000000     120.000000   89340.000000     7.000000\n",
       "max    9813.000000     300.000000  119250.000000    12.000000"
      ]
     },
     "execution_count": 23,
     "metadata": {},
     "output_type": "execute_result"
    }
   ],
   "source": [
    "# como média, desvio padrão, etc\n",
    "used_cars.describe()"
   ]
  },
  {
   "cell_type": "code",
   "execution_count": null,
   "id": "3e4b1b6d",
   "metadata": {},
   "outputs": [
    {
     "data": {
      "text/plain": [
       "data.set             object\n",
       "total.cost            int64\n",
       "lot.sale.days         int64\n",
       "overage              object\n",
       "mileage               int64\n",
       "vehicle.type         object\n",
       "domestic.import      object\n",
       "vehicle.age           int64\n",
       "vehicle.age.group    object\n",
       "color.set            object\n",
       "makex                object\n",
       "state                object\n",
       "make.model           object\n",
       "dtype: object"
      ]
     },
     "execution_count": 25,
     "metadata": {},
     "output_type": "execute_result"
    }
   ],
   "source": [
    "# tipos de dados utilizdos\n",
    "used_cars.dtypes"
   ]
  },
  {
   "cell_type": "code",
   "execution_count": null,
   "id": "8bbd3aa0",
   "metadata": {},
   "outputs": [
    {
     "data": {
      "text/plain": [
       "(7495, 13)"
      ]
     },
     "execution_count": 26,
     "metadata": {},
     "output_type": "execute_result"
    }
   ],
   "source": [
    "# quantidade de linhas e colunas\n",
    "used_cars.shape"
   ]
  },
  {
   "cell_type": "code",
   "execution_count": 27,
   "id": "9519a368",
   "metadata": {},
   "outputs": [
    {
     "data": {
      "text/html": [
       "<div>\n",
       "<style scoped>\n",
       "    .dataframe tbody tr th:only-of-type {\n",
       "        vertical-align: middle;\n",
       "    }\n",
       "\n",
       "    .dataframe tbody tr th {\n",
       "        vertical-align: top;\n",
       "    }\n",
       "\n",
       "    .dataframe thead th {\n",
       "        text-align: right;\n",
       "    }\n",
       "</style>\n",
       "<table border=\"1\" class=\"dataframe\">\n",
       "  <thead>\n",
       "    <tr style=\"text-align: right;\">\n",
       "      <th></th>\n",
       "      <th>dados</th>\n",
       "      <th>total gasto</th>\n",
       "      <th>dias a venda</th>\n",
       "      <th>excedente</th>\n",
       "      <th>kms rodados</th>\n",
       "      <th>tipo do veiculo</th>\n",
       "      <th>domestico</th>\n",
       "      <th>idade</th>\n",
       "      <th>grupo de idade</th>\n",
       "      <th>cor</th>\n",
       "      <th>marca</th>\n",
       "      <th>estado</th>\n",
       "      <th>modelo</th>\n",
       "    </tr>\n",
       "  </thead>\n",
       "  <tbody>\n",
       "    <tr>\n",
       "      <th>0</th>\n",
       "      <td>TRAIN</td>\n",
       "      <td>4037</td>\n",
       "      <td>135</td>\n",
       "      <td>YES</td>\n",
       "      <td>67341</td>\n",
       "      <td>FAMILY.LARGE</td>\n",
       "      <td>Domestic</td>\n",
       "      <td>8</td>\n",
       "      <td>SEVEN+</td>\n",
       "      <td>SILVER</td>\n",
       "      <td>BUICK</td>\n",
       "      <td>CA</td>\n",
       "      <td>BUICK.CENTURY</td>\n",
       "    </tr>\n",
       "    <tr>\n",
       "      <th>1</th>\n",
       "      <td>TRAIN</td>\n",
       "      <td>6886</td>\n",
       "      <td>114</td>\n",
       "      <td>YES</td>\n",
       "      <td>72823</td>\n",
       "      <td>FAMILY.MEDIUM</td>\n",
       "      <td>Domestic</td>\n",
       "      <td>6</td>\n",
       "      <td>SIX</td>\n",
       "      <td>WHITE</td>\n",
       "      <td>DODGE</td>\n",
       "      <td>AZ</td>\n",
       "      <td>DODGE.NEON</td>\n",
       "    </tr>\n",
       "    <tr>\n",
       "      <th>2</th>\n",
       "      <td>TRAIN</td>\n",
       "      <td>3924</td>\n",
       "      <td>205</td>\n",
       "      <td>YES</td>\n",
       "      <td>96330</td>\n",
       "      <td>FAMILY.MEDIUM</td>\n",
       "      <td>Domestic</td>\n",
       "      <td>9</td>\n",
       "      <td>SEVEN+</td>\n",
       "      <td>WHITE</td>\n",
       "      <td>OLDSMOBILE</td>\n",
       "      <td>FL</td>\n",
       "      <td>OLDSMOBILE.CUTLASS SUPREME</td>\n",
       "    </tr>\n",
       "    <tr>\n",
       "      <th>3</th>\n",
       "      <td>TRAIN</td>\n",
       "      <td>4636</td>\n",
       "      <td>100</td>\n",
       "      <td>YES</td>\n",
       "      <td>58519</td>\n",
       "      <td>ECONOMY</td>\n",
       "      <td>Import</td>\n",
       "      <td>4</td>\n",
       "      <td>FOUR</td>\n",
       "      <td>GOLD</td>\n",
       "      <td>KIA</td>\n",
       "      <td>NV</td>\n",
       "      <td>KIA.SEPHIA</td>\n",
       "    </tr>\n",
       "    <tr>\n",
       "      <th>4</th>\n",
       "      <td>TRAIN</td>\n",
       "      <td>5080</td>\n",
       "      <td>129</td>\n",
       "      <td>YES</td>\n",
       "      <td>99057</td>\n",
       "      <td>FAMILY.MEDIUM</td>\n",
       "      <td>Domestic</td>\n",
       "      <td>4</td>\n",
       "      <td>FOUR</td>\n",
       "      <td>GREEN</td>\n",
       "      <td>OLDSMOBILE</td>\n",
       "      <td>NV</td>\n",
       "      <td>OLDSMOBILE.CUTLASS SUPREME</td>\n",
       "    </tr>\n",
       "  </tbody>\n",
       "</table>\n",
       "</div>"
      ],
      "text/plain": [
       "   dados  total gasto  dias a venda excedente  kms rodados tipo do veiculo  \\\n",
       "0  TRAIN         4037           135       YES        67341    FAMILY.LARGE   \n",
       "1  TRAIN         6886           114       YES        72823   FAMILY.MEDIUM   \n",
       "2  TRAIN         3924           205       YES        96330   FAMILY.MEDIUM   \n",
       "3  TRAIN         4636           100       YES        58519         ECONOMY   \n",
       "4  TRAIN         5080           129       YES        99057   FAMILY.MEDIUM   \n",
       "\n",
       "  domestico  idade grupo de idade     cor       marca estado  \\\n",
       "0  Domestic      8         SEVEN+  SILVER       BUICK     CA   \n",
       "1  Domestic      6            SIX   WHITE       DODGE     AZ   \n",
       "2  Domestic      9         SEVEN+   WHITE  OLDSMOBILE     FL   \n",
       "3    Import      4           FOUR    GOLD         KIA     NV   \n",
       "4  Domestic      4           FOUR   GREEN  OLDSMOBILE     NV   \n",
       "\n",
       "                       modelo  \n",
       "0               BUICK.CENTURY  \n",
       "1                  DODGE.NEON  \n",
       "2  OLDSMOBILE.CUTLASS SUPREME  \n",
       "3                  KIA.SEPHIA  \n",
       "4  OLDSMOBILE.CUTLASS SUPREME  "
      ]
     },
     "execution_count": 27,
     "metadata": {},
     "output_type": "execute_result"
    }
   ],
   "source": [
    "# Renomear as colunas\n",
    "\n",
    "# antes = \tdata.set\ttotal.cost\tlot.sale.days\toverage\tmileage\tvehicle.type\tdomestic.import\tvehicle.age\tvehicle.age.group\tcolor.set\tmakex\tstate\tmake.model\n",
    "\n",
    "used_cars.columns=['dados', 'total gasto', 'dias a venda', 'excedente', 'kms rodados', 'tipo do veiculo', 'domestico', 'idade', 'grupo de idade', 'cor', 'marca', 'estado', 'modelo']\n",
    "\n",
    "used_cars.head()"
   ]
  },
  {
   "cell_type": "code",
   "execution_count": 28,
   "id": "54dd0a09",
   "metadata": {},
   "outputs": [
    {
     "data": {
      "text/html": [
       "<div>\n",
       "<style scoped>\n",
       "    .dataframe tbody tr th:only-of-type {\n",
       "        vertical-align: middle;\n",
       "    }\n",
       "\n",
       "    .dataframe tbody tr th {\n",
       "        vertical-align: top;\n",
       "    }\n",
       "\n",
       "    .dataframe thead th {\n",
       "        text-align: right;\n",
       "    }\n",
       "</style>\n",
       "<table border=\"1\" class=\"dataframe\">\n",
       "  <thead>\n",
       "    <tr style=\"text-align: right;\">\n",
       "      <th></th>\n",
       "      <th>dados</th>\n",
       "      <th>total gasto</th>\n",
       "      <th>dias a venda</th>\n",
       "      <th>excedente</th>\n",
       "      <th>kms rodados</th>\n",
       "      <th>tipo do veiculo</th>\n",
       "      <th>domestico</th>\n",
       "      <th>idade</th>\n",
       "      <th>grupo de idade</th>\n",
       "      <th>cor</th>\n",
       "      <th>marca</th>\n",
       "      <th>estado</th>\n",
       "      <th>modelo</th>\n",
       "    </tr>\n",
       "  </thead>\n",
       "  <tbody>\n",
       "  </tbody>\n",
       "</table>\n",
       "</div>"
      ],
      "text/plain": [
       "Empty DataFrame\n",
       "Columns: [dados, total gasto, dias a venda, excedente, kms rodados, tipo do veiculo, domestico, idade, grupo de idade, cor, marca, estado, modelo]\n",
       "Index: []"
      ]
     },
     "execution_count": 28,
     "metadata": {},
     "output_type": "execute_result"
    }
   ],
   "source": [
    "# verificar se em algum lugar tem valor nulo no campo idade\n",
    "used_cars[used_cars['idade'].isnull()].head()"
   ]
  },
  {
   "cell_type": "code",
   "execution_count": 29,
   "id": "cda1aaa2",
   "metadata": {},
   "outputs": [
    {
     "data": {
      "text/plain": [
       "idade\n",
       "5     1748\n",
       "6     1544\n",
       "4     1320\n",
       "7     1067\n",
       "8      568\n",
       "3      556\n",
       "9      393\n",
       "2      132\n",
       "1       80\n",
       "10      79\n",
       "11       5\n",
       "12       3\n",
       "Name: count, dtype: int64"
      ]
     },
     "execution_count": 29,
     "metadata": {},
     "output_type": "execute_result"
    }
   ],
   "source": [
    "used_cars['idade'].value_counts()"
   ]
  },
  {
   "cell_type": "code",
   "execution_count": 31,
   "id": "6d7b6aa0",
   "metadata": {},
   "outputs": [
    {
     "data": {
      "image/png": "[encoded data removed]",
      "text/plain": [
       "<Figure size 1100x500 with 1 Axes>"
      ]
     },
     "metadata": {},
     "output_type": "display_data"
    }
   ],
   "source": [
    "#  GRÁFICO\n",
    "\n",
    "used_cars['domestico'].value_counts().head(10).plot(kind='bar', figsize=(11,5), grid=False, rot=0, color='orange')\n",
    "\n",
    "plt.title('GRAFICO COM CARROS USADOS')\n",
    "plt.xlabel('Classificação')\n",
    "plt.ylabel('Quantidade')\n",
    "plt.show()"
   ]
  }
 ],
 "metadata": {
  "kernelspec": {
   "display_name": "Python 3",
   "language": "python",
   "name": "python3"
  },
  "language_info": {
   "codemirror_mode": {
    "name": "ipython",
    "version": 3
   },
   "file_extension": ".py",
   "mimetype": "text/x-python",
   "name": "python",
   "nbconvert_exporter": "python",
   "pygments_lexer": "ipython3",
   "version": "3.13.2"
  }
 },
 "nbformat": 4,
 "nbformat_minor": 5
}
